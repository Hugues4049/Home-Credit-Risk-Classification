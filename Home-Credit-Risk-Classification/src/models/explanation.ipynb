{
 "cells": [
  {
   "cell_type": "code",
   "execution_count": 20,
   "metadata": {},
   "outputs": [],
   "source": [
    "import warnings\n",
    "import numpy as np\n",
    "import os\n",
    "from sklearn.metrics import (\n",
    "    accuracy_score,\n",
    "    classification_report,\n",
    "    roc_curve,\n",
    "    auc,\n",
    "    f1_score,\n",
    ")\n",
    "\n",
    "# Import models\n",
    "from sklearn.linear_model import LogisticRegression\n",
    "from sklearn.ensemble import RandomForestClassifier\n",
    "from sklearn.tree import DecisionTreeClassifier\n",
    "from xgboost import XGBClassifier\n",
    "from sklearn.ensemble import GradientBoostingClassifier\n",
    "import mlflow\n",
    "import mlflow.sklearn\n",
    "import sys\n",
    "import logging\n",
    "from urllib.parse import urlparse\n",
    "\n",
    "import os\n",
    "\n",
    "new_directory = '/home/roland/Bureau/M2 DATA/Application of bigdata 2/Home-Credit-Risk-Classification'\n",
    "os.chdir(new_directory)\n",
    "from predict_model import *\n",
    "from train_model import *\n"
   ]
  },
  {
   "cell_type": "code",
   "execution_count": 25,
   "metadata": {},
   "outputs": [
    {
     "ename": "ValueError",
     "evalue": "invalid literal for int() with base 10: '--stdin=9003'",
     "output_type": "error",
     "traceback": [
      "\u001b[0;31m---------------------------------------------------------------------------\u001b[0m",
      "\u001b[0;31mValueError\u001b[0m                                Traceback (most recent call last)",
      "\u001b[1;32m/home/roland/Bureau/M2 DATA/Application of bigdata 2/Home-Credit-Risk-Classification/Home-Credit-Risk-Classification/src/models/explanation.ipynb Cellule 2\u001b[0m in \u001b[0;36m<cell line: 2>\u001b[0;34m()\u001b[0m\n\u001b[1;32m      <a href='vscode-notebook-cell:/home/roland/Bureau/M2%20DATA/Application%20of%20bigdata%202/Home-Credit-Risk-Classification/Home-Credit-Risk-Classification/src/models/explanation.ipynb#X15sZmlsZQ%3D%3D?line=0'>1</a>\u001b[0m \u001b[39m#n_estimators_rfc = int(sys.argv[1]) if len(sys.argv) > 1 else 100\u001b[39;00m\n\u001b[0;32m----> <a href='vscode-notebook-cell:/home/roland/Bureau/M2%20DATA/Application%20of%20bigdata%202/Home-Credit-Risk-Classification/Home-Credit-Risk-Classification/src/models/explanation.ipynb#X15sZmlsZQ%3D%3D?line=1'>2</a>\u001b[0m max_depth_rfc \u001b[39m=\u001b[39m \u001b[39mint\u001b[39;49m(sys\u001b[39m.\u001b[39;49margv[\u001b[39m2\u001b[39;49m]) \u001b[39mif\u001b[39;00m \u001b[39mlen\u001b[39m(sys\u001b[39m.\u001b[39margv) \u001b[39m>\u001b[39m \u001b[39m2\u001b[39m \u001b[39melse\u001b[39;00m \u001b[39m2\u001b[39m\n\u001b[1;32m      <a href='vscode-notebook-cell:/home/roland/Bureau/M2%20DATA/Application%20of%20bigdata%202/Home-Credit-Risk-Classification/Home-Credit-Risk-Classification/src/models/explanation.ipynb#X15sZmlsZQ%3D%3D?line=2'>3</a>\u001b[0m max_depth_dtc \u001b[39m=\u001b[39m \u001b[39mint\u001b[39m(sys\u001b[39m.\u001b[39margv[\u001b[39m3\u001b[39m]) \u001b[39mif\u001b[39;00m \u001b[39mlen\u001b[39m(sys\u001b[39m.\u001b[39margv) \u001b[39m>\u001b[39m \u001b[39m3\u001b[39m \u001b[39melse\u001b[39;00m \u001b[39m2\u001b[39m\n\u001b[1;32m      <a href='vscode-notebook-cell:/home/roland/Bureau/M2%20DATA/Application%20of%20bigdata%202/Home-Credit-Risk-Classification/Home-Credit-Risk-Classification/src/models/explanation.ipynb#X15sZmlsZQ%3D%3D?line=3'>4</a>\u001b[0m criterion_dtc \u001b[39m=\u001b[39m sys\u001b[39m.\u001b[39margv[\u001b[39m4\u001b[39m] \u001b[39mif\u001b[39;00m \u001b[39mlen\u001b[39m(sys\u001b[39m.\u001b[39margv) \u001b[39m>\u001b[39m \u001b[39m4\u001b[39m \u001b[39melse\u001b[39;00m \u001b[39m\"\u001b[39m\u001b[39mentropy\u001b[39m\u001b[39m\"\u001b[39m\n",
      "\u001b[0;31mValueError\u001b[0m: invalid literal for int() with base 10: '--stdin=9003'"
     ]
    }
   ],
   "source": [
    "'''n_estimators_rfc = int(sys.argv[1]) if len(sys.argv) > 1 else 100\n",
    "max_depth_rfc = int(sys.argv[2]) if len(sys.argv) > 2 else 2\n",
    "max_depth_dtc = int(sys.argv[3]) if len(sys.argv) > 3 else 2'''\n",
    "criterion_dtc = \"entropy\""
   ]
  },
  {
   "cell_type": "code",
   "execution_count": 23,
   "metadata": {},
   "outputs": [
    {
     "ename": "NameError",
     "evalue": "name 'criterion_dtc' is not defined",
     "output_type": "error",
     "traceback": [
      "\u001b[0;31m---------------------------------------------------------------------------\u001b[0m",
      "\u001b[0;31mNameError\u001b[0m                                 Traceback (most recent call last)",
      "\u001b[1;32m/home/roland/Bureau/M2 DATA/Application of bigdata 2/Home-Credit-Risk-Classification/Home-Credit-Risk-Classification/src/models/explanation.ipynb Cellule 2\u001b[0m in \u001b[0;36m<cell line: 2>\u001b[0;34m()\u001b[0m\n\u001b[1;32m      <a href='vscode-notebook-cell:/home/roland/Bureau/M2%20DATA/Application%20of%20bigdata%202/Home-Credit-Risk-Classification/Home-Credit-Risk-Classification/src/models/explanation.ipynb#X12sZmlsZQ%3D%3D?line=0'>1</a>\u001b[0m \u001b[39m\"\"\"Model 3: Decision Tree Classifier\"\"\"\u001b[39;00m\n\u001b[0;32m----> <a href='vscode-notebook-cell:/home/roland/Bureau/M2%20DATA/Application%20of%20bigdata%202/Home-Credit-Risk-Classification/Home-Credit-Risk-Classification/src/models/explanation.ipynb#X12sZmlsZQ%3D%3D?line=1'>2</a>\u001b[0m dtc \u001b[39m=\u001b[39m DecisionTreeClassifier(criterion\u001b[39m=\u001b[39mcriterion_dtc, max_depth\u001b[39m=\u001b[39mmax_depth_dtc, random_state\u001b[39m=\u001b[39m\u001b[39m42\u001b[39m)\n\u001b[1;32m      <a href='vscode-notebook-cell:/home/roland/Bureau/M2%20DATA/Application%20of%20bigdata%202/Home-Credit-Risk-Classification/Home-Credit-Risk-Classification/src/models/explanation.ipynb#X12sZmlsZQ%3D%3D?line=2'>3</a>\u001b[0m accuracy_dtc, classify_metrics_dtc, fpr_dtc, tpr_dtc, auc_score_dtc, f1_dtc \u001b[39m=\u001b[39m model_run(dtc, df_undersampled_X, df_undersampled_Y, test_X, test_Y, train_X\u001b[39m.\u001b[39mcolumns)\n",
      "\u001b[0;31mNameError\u001b[0m: name 'criterion_dtc' is not defined"
     ]
    }
   ],
   "source": [
    "\"\"\"Model 3: Decision Tree Classifier\"\"\"\n",
    "dtc = DecisionTreeClassifier(criterion=criterion_dtc, max_depth=max_depth_dtc, random_state=42)\n",
    "accuracy_dtc, classify_metrics_dtc, fpr_dtc, tpr_dtc, auc_score_dtc, f1_dtc = model_run(dtc, df_undersampled_X, df_undersampled_Y, test_X, test_Y, train_X.columns)\n"
   ]
  },
  {
   "cell_type": "code",
   "execution_count": 22,
   "metadata": {},
   "outputs": [
    {
     "ename": "InvalidModelError",
     "evalue": "Model type not yet supported by TreeExplainer: <class 'sklearn.linear_model._logistic.LogisticRegression'>",
     "output_type": "error",
     "traceback": [
      "\u001b[0;31m---------------------------------------------------------------------------\u001b[0m",
      "\u001b[0;31mInvalidModelError\u001b[0m                         Traceback (most recent call last)",
      "\u001b[1;32m/home/roland/Bureau/M2 DATA/Application of bigdata 2/Home-Credit-Risk-Classification/Home-Credit-Risk-Classification/src/models/explanation.ipynb Cellule 3\u001b[0m in \u001b[0;36m<cell line: 6>\u001b[0;34m()\u001b[0m\n\u001b[1;32m      <a href='vscode-notebook-cell:/home/roland/Bureau/M2%20DATA/Application%20of%20bigdata%202/Home-Credit-Risk-Classification/Home-Credit-Risk-Classification/src/models/explanation.ipynb#X14sZmlsZQ%3D%3D?line=0'>1</a>\u001b[0m \u001b[39mimport\u001b[39;00m \u001b[39mshap\u001b[39;00m  \u001b[39m# package used to calculate Shap values\u001b[39;00m\n\u001b[1;32m      <a href='vscode-notebook-cell:/home/roland/Bureau/M2%20DATA/Application%20of%20bigdata%202/Home-Credit-Risk-Classification/Home-Credit-Risk-Classification/src/models/explanation.ipynb#X14sZmlsZQ%3D%3D?line=2'>3</a>\u001b[0m \u001b[39m#Build a TreeExplainer and compute Shaplay Values\u001b[39;00m\n\u001b[1;32m      <a href='vscode-notebook-cell:/home/roland/Bureau/M2%20DATA/Application%20of%20bigdata%202/Home-Credit-Risk-Classification/Home-Credit-Risk-Classification/src/models/explanation.ipynb#X14sZmlsZQ%3D%3D?line=3'>4</a>\u001b[0m \n\u001b[1;32m      <a href='vscode-notebook-cell:/home/roland/Bureau/M2%20DATA/Application%20of%20bigdata%202/Home-Credit-Risk-Classification/Home-Credit-Risk-Classification/src/models/explanation.ipynb#X14sZmlsZQ%3D%3D?line=4'>5</a>\u001b[0m \u001b[39m#Build a TreeExplainer:\u001b[39;00m\n\u001b[0;32m----> <a href='vscode-notebook-cell:/home/roland/Bureau/M2%20DATA/Application%20of%20bigdata%202/Home-Credit-Risk-Classification/Home-Credit-Risk-Classification/src/models/explanation.ipynb#X14sZmlsZQ%3D%3D?line=5'>6</a>\u001b[0m explainer \u001b[39m=\u001b[39m shap\u001b[39m.\u001b[39;49mTreeExplainer(logit)\n\u001b[1;32m      <a href='vscode-notebook-cell:/home/roland/Bureau/M2%20DATA/Application%20of%20bigdata%202/Home-Credit-Risk-Classification/Home-Credit-Risk-Classification/src/models/explanation.ipynb#X14sZmlsZQ%3D%3D?line=7'>8</a>\u001b[0m \u001b[39m#Compute Shapley Values:\u001b[39;00m\n\u001b[1;32m      <a href='vscode-notebook-cell:/home/roland/Bureau/M2%20DATA/Application%20of%20bigdata%202/Home-Credit-Risk-Classification/Home-Credit-Risk-Classification/src/models/explanation.ipynb#X14sZmlsZQ%3D%3D?line=8'>9</a>\u001b[0m shap_values \u001b[39m=\u001b[39m explainer\u001b[39m.\u001b[39mshap_values(test_X)\n",
      "File \u001b[0;32m~/.local/lib/python3.9/site-packages/shap/explainers/_tree.py:149\u001b[0m, in \u001b[0;36mTree.__init__\u001b[0;34m(self, model, data, model_output, feature_perturbation, feature_names, approximate, **deprecated_options)\u001b[0m\n\u001b[1;32m    147\u001b[0m \u001b[39mself\u001b[39m\u001b[39m.\u001b[39mfeature_perturbation \u001b[39m=\u001b[39m feature_perturbation\n\u001b[1;32m    148\u001b[0m \u001b[39mself\u001b[39m\u001b[39m.\u001b[39mexpected_value \u001b[39m=\u001b[39m \u001b[39mNone\u001b[39;00m\n\u001b[0;32m--> 149\u001b[0m \u001b[39mself\u001b[39m\u001b[39m.\u001b[39mmodel \u001b[39m=\u001b[39m TreeEnsemble(model, \u001b[39mself\u001b[39;49m\u001b[39m.\u001b[39;49mdata, \u001b[39mself\u001b[39;49m\u001b[39m.\u001b[39;49mdata_missing, model_output)\n\u001b[1;32m    150\u001b[0m \u001b[39mself\u001b[39m\u001b[39m.\u001b[39mmodel_output \u001b[39m=\u001b[39m model_output\n\u001b[1;32m    151\u001b[0m \u001b[39m#self.model_output = self.model.model_output # this allows the TreeEnsemble to translate model outputs types by how it loads the model\u001b[39;00m\n",
      "File \u001b[0;32m~/.local/lib/python3.9/site-packages/shap/explainers/_tree.py:993\u001b[0m, in \u001b[0;36mTreeEnsemble.__init__\u001b[0;34m(self, model, data, data_missing, model_output)\u001b[0m\n\u001b[1;32m    991\u001b[0m     \u001b[39mself\u001b[39m\u001b[39m.\u001b[39mbase_offset \u001b[39m=\u001b[39m model\u001b[39m.\u001b[39minit_params[param_idx]\n\u001b[1;32m    992\u001b[0m \u001b[39melse\u001b[39;00m:\n\u001b[0;32m--> 993\u001b[0m     \u001b[39mraise\u001b[39;00m InvalidModelError(\u001b[39m\"\u001b[39m\u001b[39mModel type not yet supported by TreeExplainer: \u001b[39m\u001b[39m\"\u001b[39m \u001b[39m+\u001b[39m \u001b[39mstr\u001b[39m(\u001b[39mtype\u001b[39m(model)))\n\u001b[1;32m    995\u001b[0m \u001b[39m# build a dense numpy version of all the tree objects\u001b[39;00m\n\u001b[1;32m    996\u001b[0m \u001b[39mif\u001b[39;00m \u001b[39mself\u001b[39m\u001b[39m.\u001b[39mtrees \u001b[39mis\u001b[39;00m \u001b[39mnot\u001b[39;00m \u001b[39mNone\u001b[39;00m \u001b[39mand\u001b[39;00m \u001b[39mself\u001b[39m\u001b[39m.\u001b[39mtrees:\n",
      "\u001b[0;31mInvalidModelError\u001b[0m: Model type not yet supported by TreeExplainer: <class 'sklearn.linear_model._logistic.LogisticRegression'>"
     ]
    }
   ],
   "source": [
    "import shap  # package used to calculate Shap values\n",
    "\n",
    "#Build a TreeExplainer and compute Shaplay Values\n",
    "\n",
    "#Build a TreeExplainer:\n",
    "explainer = shap.TreeExplainer(logit)\n",
    "\n",
    "#Compute Shapley Values:\n",
    "shap_values = explainer.shap_values(test_X)"
   ]
  },
  {
   "cell_type": "code",
   "execution_count": null,
   "metadata": {},
   "outputs": [],
   "source": []
  },
  {
   "cell_type": "code",
   "execution_count": 11,
   "metadata": {},
   "outputs": [],
   "source": [
    "import os\n",
    "\n",
    "new_directory = '/home/roland/Bureau/M2 DATA/Application of bigdata 2/Home-Credit-Risk-Classification'\n",
    "os.chdir(new_directory)"
   ]
  },
  {
   "cell_type": "code",
   "execution_count": 12,
   "metadata": {},
   "outputs": [
    {
     "name": "stdout",
     "output_type": "stream",
     "text": [
      "/home/roland/Bureau/M2 DATA/Application of bigdata 2/Home-Credit-Risk-Classification\n"
     ]
    }
   ],
   "source": [
    "print(os.getcwd())"
   ]
  },
  {
   "cell_type": "code",
   "execution_count": 15,
   "metadata": {},
   "outputs": [
    {
     "name": "stdout",
     "output_type": "stream",
     "text": [
      "304\n"
     ]
    }
   ],
   "source": []
  },
  {
   "cell_type": "code",
   "execution_count": 18,
   "metadata": {},
   "outputs": [
    {
     "ename": "NotFittedError",
     "evalue": "This LogisticRegression instance is not fitted yet. Call 'fit' with appropriate arguments before using this estimator.",
     "output_type": "error",
     "traceback": [
      "\u001b[0;31m---------------------------------------------------------------------------\u001b[0m",
      "\u001b[0;31mNotFittedError\u001b[0m                            Traceback (most recent call last)",
      "\u001b[1;32m/home/roland/Bureau/M2 DATA/Application of bigdata 2/Home-Credit-Risk-Classification/Home-Credit-Risk-Classification/src/models/explanation.ipynb Cellule 5\u001b[0m in \u001b[0;36m<cell line: 4>\u001b[0;34m()\u001b[0m\n\u001b[1;32m      <a href='vscode-notebook-cell:/home/roland/Bureau/M2%20DATA/Application%20of%20bigdata%202/Home-Credit-Risk-Classification/Home-Credit-Risk-Classification/src/models/explanation.ipynb#W4sZmlsZQ%3D%3D?line=1'>2</a>\u001b[0m logit \u001b[39m=\u001b[39m LogisticRegression()\n\u001b[1;32m      <a href='vscode-notebook-cell:/home/roland/Bureau/M2%20DATA/Application%20of%20bigdata%202/Home-Credit-Risk-Classification/Home-Credit-Risk-Classification/src/models/explanation.ipynb#W4sZmlsZQ%3D%3D?line=2'>3</a>\u001b[0m algorithm \u001b[39m=\u001b[39m logit\n\u001b[0;32m----> <a href='vscode-notebook-cell:/home/roland/Bureau/M2%20DATA/Application%20of%20bigdata%202/Home-Credit-Risk-Classification/Home-Credit-Risk-Classification/src/models/explanation.ipynb#W4sZmlsZQ%3D%3D?line=3'>4</a>\u001b[0m prediction_probabilities \u001b[39m=\u001b[39m algorithm\u001b[39m.\u001b[39;49mpredict_proba(test_X)[:, \u001b[39m1\u001b[39m]\n\u001b[1;32m      <a href='vscode-notebook-cell:/home/roland/Bureau/M2%20DATA/Application%20of%20bigdata%202/Home-Credit-Risk-Classification/Home-Credit-Risk-Classification/src/models/explanation.ipynb#W4sZmlsZQ%3D%3D?line=4'>5</a>\u001b[0m logit \u001b[39m=\u001b[39m LogisticRegression()\n\u001b[1;32m      <a href='vscode-notebook-cell:/home/roland/Bureau/M2%20DATA/Application%20of%20bigdata%202/Home-Credit-Risk-Classification/Home-Credit-Risk-Classification/src/models/explanation.ipynb#W4sZmlsZQ%3D%3D?line=5'>6</a>\u001b[0m explainer \u001b[39m=\u001b[39m shap\u001b[39m.\u001b[39mTreeExplainer(prediction_probabilities)\n",
      "File \u001b[0;32m~/.local/lib/python3.9/site-packages/sklearn/linear_model/_logistic.py:1304\u001b[0m, in \u001b[0;36mLogisticRegression.predict_proba\u001b[0;34m(self, X)\u001b[0m\n\u001b[1;32m   1278\u001b[0m \u001b[39mdef\u001b[39;00m \u001b[39mpredict_proba\u001b[39m(\u001b[39mself\u001b[39m, X):\n\u001b[1;32m   1279\u001b[0m \u001b[39m    \u001b[39m\u001b[39m\"\"\"\u001b[39;00m\n\u001b[1;32m   1280\u001b[0m \u001b[39m    Probability estimates.\u001b[39;00m\n\u001b[1;32m   1281\u001b[0m \n\u001b[0;32m   (...)\u001b[0m\n\u001b[1;32m   1302\u001b[0m \u001b[39m        where classes are ordered as they are in ``self.classes_``.\u001b[39;00m\n\u001b[1;32m   1303\u001b[0m \u001b[39m    \"\"\"\u001b[39;00m\n\u001b[0;32m-> 1304\u001b[0m     check_is_fitted(\u001b[39mself\u001b[39;49m)\n\u001b[1;32m   1306\u001b[0m     ovr \u001b[39m=\u001b[39m \u001b[39mself\u001b[39m\u001b[39m.\u001b[39mmulti_class \u001b[39min\u001b[39;00m [\u001b[39m\"\u001b[39m\u001b[39movr\u001b[39m\u001b[39m\"\u001b[39m, \u001b[39m\"\u001b[39m\u001b[39mwarn\u001b[39m\u001b[39m\"\u001b[39m] \u001b[39mor\u001b[39;00m (\n\u001b[1;32m   1307\u001b[0m         \u001b[39mself\u001b[39m\u001b[39m.\u001b[39mmulti_class \u001b[39m==\u001b[39m \u001b[39m\"\u001b[39m\u001b[39mauto\u001b[39m\u001b[39m\"\u001b[39m\n\u001b[1;32m   1308\u001b[0m         \u001b[39mand\u001b[39;00m (\u001b[39mself\u001b[39m\u001b[39m.\u001b[39mclasses_\u001b[39m.\u001b[39msize \u001b[39m<\u001b[39m\u001b[39m=\u001b[39m \u001b[39m2\u001b[39m \u001b[39mor\u001b[39;00m \u001b[39mself\u001b[39m\u001b[39m.\u001b[39msolver \u001b[39m==\u001b[39m \u001b[39m\"\u001b[39m\u001b[39mliblinear\u001b[39m\u001b[39m\"\u001b[39m)\n\u001b[1;32m   1309\u001b[0m     )\n\u001b[1;32m   1310\u001b[0m     \u001b[39mif\u001b[39;00m ovr:\n",
      "File \u001b[0;32m~/.local/lib/python3.9/site-packages/sklearn/utils/validation.py:1345\u001b[0m, in \u001b[0;36mcheck_is_fitted\u001b[0;34m(estimator, attributes, msg, all_or_any)\u001b[0m\n\u001b[1;32m   1340\u001b[0m     fitted \u001b[39m=\u001b[39m [\n\u001b[1;32m   1341\u001b[0m         v \u001b[39mfor\u001b[39;00m v \u001b[39min\u001b[39;00m \u001b[39mvars\u001b[39m(estimator) \u001b[39mif\u001b[39;00m v\u001b[39m.\u001b[39mendswith(\u001b[39m\"\u001b[39m\u001b[39m_\u001b[39m\u001b[39m\"\u001b[39m) \u001b[39mand\u001b[39;00m \u001b[39mnot\u001b[39;00m v\u001b[39m.\u001b[39mstartswith(\u001b[39m\"\u001b[39m\u001b[39m__\u001b[39m\u001b[39m\"\u001b[39m)\n\u001b[1;32m   1342\u001b[0m     ]\n\u001b[1;32m   1344\u001b[0m \u001b[39mif\u001b[39;00m \u001b[39mnot\u001b[39;00m fitted:\n\u001b[0;32m-> 1345\u001b[0m     \u001b[39mraise\u001b[39;00m NotFittedError(msg \u001b[39m%\u001b[39m {\u001b[39m\"\u001b[39m\u001b[39mname\u001b[39m\u001b[39m\"\u001b[39m: \u001b[39mtype\u001b[39m(estimator)\u001b[39m.\u001b[39m\u001b[39m__name__\u001b[39m})\n",
      "\u001b[0;31mNotFittedError\u001b[0m: This LogisticRegression instance is not fitted yet. Call 'fit' with appropriate arguments before using this estimator."
     ]
    }
   ],
   "source": [
    "# Create object that can calculate shap values\n",
    "logit = LogisticRegression()\n",
    "algorithm = logit\n",
    "prediction_probabilities = algorithm.predict_proba(test_X)[:, 1]\n",
    "logit = LogisticRegression()\n",
    "explainer = shap.TreeExplainer(prediction_probabilities)\n",
    "\n",
    "# Calculate Shap values\n",
    "shap_values = explainer.shap_values(test_X)"
   ]
  },
  {
   "cell_type": "code",
   "execution_count": 2,
   "metadata": {},
   "outputs": [
    {
     "ename": "NameError",
     "evalue": "name '__file__' is not defined",
     "output_type": "error",
     "traceback": [
      "\u001b[0;31m---------------------------------------------------------------------------\u001b[0m",
      "\u001b[0;31mNameError\u001b[0m                                 Traceback (most recent call last)",
      "\u001b[1;32m/home/roland/Bureau/M2 DATA/Application of bigdata 2/Home-Credit-Risk-Classification/Home-Credit-Risk-Classification/src/models/explanation.ipynb Cellule 2\u001b[0m in \u001b[0;36m<cell line: 3>\u001b[0;34m()\u001b[0m\n\u001b[1;32m      <a href='vscode-notebook-cell:/home/roland/Bureau/M2%20DATA/Application%20of%20bigdata%202/Home-Credit-Risk-Classification/Home-Credit-Risk-Classification/src/models/explanation.ipynb#W3sZmlsZQ%3D%3D?line=0'>1</a>\u001b[0m \u001b[39mimport\u001b[39;00m \u001b[39msys\u001b[39;00m\n\u001b[1;32m      <a href='vscode-notebook-cell:/home/roland/Bureau/M2%20DATA/Application%20of%20bigdata%202/Home-Credit-Risk-Classification/Home-Credit-Risk-Classification/src/models/explanation.ipynb#W3sZmlsZQ%3D%3D?line=1'>2</a>\u001b[0m \u001b[39mimport\u001b[39;00m \u001b[39mos\u001b[39;00m\n\u001b[0;32m----> <a href='vscode-notebook-cell:/home/roland/Bureau/M2%20DATA/Application%20of%20bigdata%202/Home-Credit-Risk-Classification/Home-Credit-Risk-Classification/src/models/explanation.ipynb#W3sZmlsZQ%3D%3D?line=2'>3</a>\u001b[0m os\u001b[39m.\u001b[39mpath\u001b[39m.\u001b[39mjoin(os\u001b[39m.\u001b[39mpath\u001b[39m.\u001b[39mdirname(\u001b[39m__file__\u001b[39;49m), \u001b[39m\"\u001b[39m\u001b[39m../\u001b[39m\u001b[39m\"\u001b[39m)\n\u001b[1;32m      <a href='vscode-notebook-cell:/home/roland/Bureau/M2%20DATA/Application%20of%20bigdata%202/Home-Credit-Risk-Classification/Home-Credit-Risk-Classification/src/models/explanation.ipynb#W3sZmlsZQ%3D%3D?line=3'>4</a>\u001b[0m sys\u001b[39m.\u001b[39mpath\u001b[39m.\u001b[39mappend(os\u001b[39m.\u001b[39mpath\u001b[39m.\u001b[39mjoin(os\u001b[39m.\u001b[39mpath\u001b[39m.\u001b[39mdirname(\u001b[39m__file__\u001b[39m), \u001b[39m\"\u001b[39m\u001b[39m../\u001b[39m\u001b[39m\"\u001b[39m))\n\u001b[1;32m      <a href='vscode-notebook-cell:/home/roland/Bureau/M2%20DATA/Application%20of%20bigdata%202/Home-Credit-Risk-Classification/Home-Credit-Risk-Classification/src/models/explanation.ipynb#W3sZmlsZQ%3D%3D?line=4'>5</a>\u001b[0m \u001b[39mfrom\u001b[39;00m \u001b[39mmodels\u001b[39;00m\u001b[39m.\u001b[39;00m\u001b[39mpredict_model\u001b[39;00m \u001b[39mimport\u001b[39;00m \u001b[39m*\u001b[39m\n",
      "\u001b[0;31mNameError\u001b[0m: name '__file__' is not defined"
     ]
    }
   ],
   "source": [
    "import sys\n",
    "import os\n",
    "os.path.join(os.path.dirname(__file__), \"../\")\n",
    "sys.path.append(os.path.join(os.path.dirname(__file__), \"../\"))\n",
    "from models.predict_model import *"
   ]
  },
  {
   "cell_type": "code",
   "execution_count": null,
   "metadata": {},
   "outputs": [],
   "source": [
    "shap.initjs()\n",
    "shap.force_plot(explainer.expected_value[1], shap_values[1], data_for_prediction)"
   ]
  },
  {
   "cell_type": "code",
   "execution_count": null,
   "metadata": {},
   "outputs": [],
   "source": []
  }
 ],
 "metadata": {
  "kernelspec": {
   "display_name": "Python 3",
   "language": "python",
   "name": "python3"
  },
  "language_info": {
   "codemirror_mode": {
    "name": "ipython",
    "version": 3
   },
   "file_extension": ".py",
   "mimetype": "text/x-python",
   "name": "python",
   "nbconvert_exporter": "python",
   "pygments_lexer": "ipython3",
   "version": "3.9.7"
  },
  "orig_nbformat": 4,
  "vscode": {
   "interpreter": {
    "hash": "916dbcbb3f70747c44a77c7bcd40155683ae19c65e1c03b4aa3499c5328201f1"
   }
  }
 },
 "nbformat": 4,
 "nbformat_minor": 2
}
